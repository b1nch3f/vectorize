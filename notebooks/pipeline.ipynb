{
 "cells": [
  {
   "cell_type": "code",
   "execution_count": 9,
   "id": "68809ccd-2c74-4e56-818f-ec0b2fb54c90",
   "metadata": {},
   "outputs": [
    {
     "name": "stdout",
     "output_type": "stream",
     "text": [
      "Collecting sentence-transformers\n",
      "  Downloading sentence-transformers-2.2.2.tar.gz (85 kB)\n",
      "\u001b[2K     \u001b[90m━━━━━━━━━━━━━━━━━━━━━━━━━━━━━━━━━━━━━━━━\u001b[0m \u001b[32m86.0/86.0 kB\u001b[0m \u001b[31m75.6 kB/s\u001b[0m eta \u001b[36m0:00:00\u001b[0ma \u001b[36m0:00:01\u001b[0m\n",
      "\u001b[?25h  Preparing metadata (setup.py) ... \u001b[?25ldone\n",
      "\u001b[?25hRequirement already satisfied: transformers<5.0.0,>=4.6.0 in /usr/local/lib/python3.11/site-packages (from sentence-transformers) (4.33.1)\n",
      "Requirement already satisfied: tqdm in /usr/local/lib/python3.11/site-packages (from sentence-transformers) (4.66.1)\n",
      "Collecting torch>=1.6.0 (from sentence-transformers)\n",
      "  Downloading torch-2.0.1-cp311-cp311-manylinux1_x86_64.whl (619.9 MB)\n",
      "\u001b[2K     \u001b[90m━━━━━━━━━━━━━━━━━━━━━━━━━━━━━━━━━━━━━\u001b[0m \u001b[32m619.9/619.9 MB\u001b[0m \u001b[31m402.2 kB/s\u001b[0m eta \u001b[36m0:00:00\u001b[0m00:01\u001b[0m00:26\u001b[0m\n",
      "\u001b[?25hCollecting torchvision (from sentence-transformers)\n",
      "  Downloading torchvision-0.15.2-cp311-cp311-manylinux1_x86_64.whl (6.0 MB)\n",
      "\u001b[2K     \u001b[90m━━━━━━━━━━━━━━━━━━━━━━━━━━━━━━━━━━━━━━━━\u001b[0m \u001b[32m6.0/6.0 MB\u001b[0m \u001b[31m826.9 kB/s\u001b[0m eta \u001b[36m0:00:00\u001b[0m00:01\u001b[0m00:01\u001b[0m\n",
      "\u001b[?25hRequirement already satisfied: numpy in /usr/local/lib/python3.11/site-packages (from sentence-transformers) (1.25.2)\n",
      "Collecting scikit-learn (from sentence-transformers)\n",
      "  Obtaining dependency information for scikit-learn from https://files.pythonhosted.org/packages/1f/ad/9799aabeabcb9a293c87b6f96cc78655b8abc7d35560cd99007093b5d445/scikit_learn-1.3.0-cp311-cp311-manylinux_2_17_x86_64.manylinux2014_x86_64.whl.metadata\n",
      "  Downloading scikit_learn-1.3.0-cp311-cp311-manylinux_2_17_x86_64.manylinux2014_x86_64.whl.metadata (11 kB)\n",
      "Collecting scipy (from sentence-transformers)\n",
      "  Obtaining dependency information for scipy from https://files.pythonhosted.org/packages/0e/a0/8606a7eef659f3d5f79d9efb92eed3ed1243178f4ae962614e1b202935a6/scipy-1.11.2-cp311-cp311-manylinux_2_17_x86_64.manylinux2014_x86_64.whl.metadata\n",
      "  Downloading scipy-1.11.2-cp311-cp311-manylinux_2_17_x86_64.manylinux2014_x86_64.whl.metadata (59 kB)\n",
      "\u001b[2K     \u001b[90m━━━━━━━━━━━━━━━━━━━━━━━━━━━━━━━━━━━━━━━━\u001b[0m \u001b[32m59.1/59.1 kB\u001b[0m \u001b[31m1.1 MB/s\u001b[0m eta \u001b[36m0:00:00\u001b[0ma \u001b[36m0:00:01\u001b[0m\n",
      "\u001b[?25hCollecting nltk (from sentence-transformers)\n",
      "  Downloading nltk-3.8.1-py3-none-any.whl (1.5 MB)\n",
      "\u001b[2K     \u001b[90m━━━━━━━━━━━━━━━━━━━━━━━━━━━━━━━━━━━━━━━━\u001b[0m \u001b[32m1.5/1.5 MB\u001b[0m \u001b[31m395.7 kB/s\u001b[0m eta \u001b[36m0:00:00\u001b[0m00:01\u001b[0m00:01\u001b[0m\n",
      "\u001b[?25hCollecting sentencepiece (from sentence-transformers)\n",
      "  Downloading sentencepiece-0.1.99-cp311-cp311-manylinux_2_17_x86_64.manylinux2014_x86_64.whl (1.3 MB)\n",
      "\u001b[2K     \u001b[90m━━━━━━━━━━━━━━━━━━━━━━━━━━━━━━━━━━━━━━━━\u001b[0m \u001b[32m1.3/1.3 MB\u001b[0m \u001b[31m391.4 kB/s\u001b[0m eta \u001b[36m0:00:00\u001b[0m00:01\u001b[0m00:01\u001b[0m\n",
      "\u001b[?25hRequirement already satisfied: huggingface-hub>=0.4.0 in /usr/local/lib/python3.11/site-packages (from sentence-transformers) (0.16.4)\n",
      "Requirement already satisfied: filelock in /usr/local/lib/python3.11/site-packages (from huggingface-hub>=0.4.0->sentence-transformers) (3.12.3)\n",
      "Requirement already satisfied: fsspec in /usr/local/lib/python3.11/site-packages (from huggingface-hub>=0.4.0->sentence-transformers) (2023.9.0)\n",
      "Requirement already satisfied: requests in /usr/local/lib/python3.11/site-packages (from huggingface-hub>=0.4.0->sentence-transformers) (2.31.0)\n",
      "Requirement already satisfied: pyyaml>=5.1 in /usr/local/lib/python3.11/site-packages (from huggingface-hub>=0.4.0->sentence-transformers) (6.0.1)\n",
      "Requirement already satisfied: typing-extensions>=3.7.4.3 in /usr/local/lib/python3.11/site-packages (from huggingface-hub>=0.4.0->sentence-transformers) (4.7.1)\n",
      "Requirement already satisfied: packaging>=20.9 in /usr/local/lib/python3.11/site-packages (from huggingface-hub>=0.4.0->sentence-transformers) (23.1)\n",
      "Collecting sympy (from torch>=1.6.0->sentence-transformers)\n",
      "  Downloading sympy-1.12-py3-none-any.whl (5.7 MB)\n",
      "\u001b[2K     \u001b[90m━━━━━━━━━━━━━━━━━━━━━━━━━━━━━━━━━━━━━━━━\u001b[0m \u001b[32m5.7/5.7 MB\u001b[0m \u001b[31m573.5 kB/s\u001b[0m eta \u001b[36m0:00:00\u001b[0m00:01\u001b[0m00:01\u001b[0m\n",
      "\u001b[?25hCollecting networkx (from torch>=1.6.0->sentence-transformers)\n",
      "  Downloading networkx-3.1-py3-none-any.whl (2.1 MB)\n",
      "\u001b[2K     \u001b[90m━━━━━━━━━━━━━━━━━━━━━━━━━━━━━━━━━━━━━━━━\u001b[0m \u001b[32m2.1/2.1 MB\u001b[0m \u001b[31m686.5 kB/s\u001b[0m eta \u001b[36m0:00:00\u001b[0m00:01\u001b[0m00:01\u001b[0m\n",
      "\u001b[?25hRequirement already satisfied: jinja2 in /usr/local/lib/python3.11/site-packages (from torch>=1.6.0->sentence-transformers) (3.1.2)\n",
      "Collecting nvidia-cuda-nvrtc-cu11==11.7.99 (from torch>=1.6.0->sentence-transformers)\n",
      "  Downloading nvidia_cuda_nvrtc_cu11-11.7.99-2-py3-none-manylinux1_x86_64.whl (21.0 MB)\n",
      "\u001b[2K     \u001b[90m━━━━━━━━━━━━━━━━━━━━━━━━━━━━━━━━━━━━━━━━\u001b[0m \u001b[32m21.0/21.0 MB\u001b[0m \u001b[31m1.1 MB/s\u001b[0m eta \u001b[36m0:00:00\u001b[0m00:01\u001b[0m00:01\u001b[0mm\n",
      "\u001b[?25hCollecting nvidia-cuda-runtime-cu11==11.7.99 (from torch>=1.6.0->sentence-transformers)\n",
      "  Downloading nvidia_cuda_runtime_cu11-11.7.99-py3-none-manylinux1_x86_64.whl (849 kB)\n",
      "\u001b[2K     \u001b[90m━━━━━━━━━━━━━━━━━━━━━━━━━━━━━━━━━━━━━\u001b[0m \u001b[32m849.3/849.3 kB\u001b[0m \u001b[31m926.3 kB/s\u001b[0m eta \u001b[36m0:00:00\u001b[0m00:01\u001b[0m00:01\u001b[0m\n",
      "\u001b[?25hCollecting nvidia-cuda-cupti-cu11==11.7.101 (from torch>=1.6.0->sentence-transformers)\n",
      "  Downloading nvidia_cuda_cupti_cu11-11.7.101-py3-none-manylinux1_x86_64.whl (11.8 MB)\n",
      "\u001b[2K     \u001b[90m━━━━━━━━━━━━━━━━━━━━━━━━━━━━━━━━━━━━━━━\u001b[0m \u001b[32m11.8/11.8 MB\u001b[0m \u001b[31m830.7 kB/s\u001b[0m eta \u001b[36m0:00:00\u001b[0m00:01\u001b[0m00:01\u001b[0m\n",
      "\u001b[?25hCollecting nvidia-cudnn-cu11==8.5.0.96 (from torch>=1.6.0->sentence-transformers)\n",
      "  Downloading nvidia_cudnn_cu11-8.5.0.96-2-py3-none-manylinux1_x86_64.whl (557.1 MB)\n",
      "\u001b[2K     \u001b[90m━━━━━━━━━━━━━━━━━━━━━━━━━━━━━━━━━━━━━\u001b[0m \u001b[32m557.1/557.1 MB\u001b[0m \u001b[31m381.2 kB/s\u001b[0m eta \u001b[36m0:00:00\u001b[0m00:01\u001b[0m00:25\u001b[0m\n",
      "\u001b[?25hCollecting nvidia-cublas-cu11==11.10.3.66 (from torch>=1.6.0->sentence-transformers)\n",
      "  Downloading nvidia_cublas_cu11-11.10.3.66-py3-none-manylinux1_x86_64.whl (317.1 MB)\n",
      "\u001b[2K     \u001b[90m━━━━━━━━━━━━━━━━━━━━━━━━━━━━━━━━━━━━━━━\u001b[0m \u001b[32m317.1/317.1 MB\u001b[0m \u001b[31m2.1 MB/s\u001b[0m eta \u001b[36m0:00:00\u001b[0m00:01\u001b[0m00:02\u001b[0m\n",
      "\u001b[?25hCollecting nvidia-cufft-cu11==10.9.0.58 (from torch>=1.6.0->sentence-transformers)\n",
      "  Downloading nvidia_cufft_cu11-10.9.0.58-py3-none-manylinux1_x86_64.whl (168.4 MB)\n",
      "\u001b[2K     \u001b[90m━━━━━━━━━━━━━━━━━━━━━━━━━━━━━━━━━━━━━━━\u001b[0m \u001b[32m168.4/168.4 MB\u001b[0m \u001b[31m2.7 MB/s\u001b[0m eta \u001b[36m0:00:00\u001b[0m00:01\u001b[0m00:02\u001b[0m\n",
      "\u001b[?25hCollecting nvidia-curand-cu11==10.2.10.91 (from torch>=1.6.0->sentence-transformers)\n",
      "  Downloading nvidia_curand_cu11-10.2.10.91-py3-none-manylinux1_x86_64.whl (54.6 MB)\n",
      "\u001b[2K     \u001b[90m━━━━━━━━━━━━━━━━━━━━━━━━━━━━━━━━━━━━━━━━\u001b[0m \u001b[32m54.6/54.6 MB\u001b[0m \u001b[31m3.0 MB/s\u001b[0m eta \u001b[36m0:00:00\u001b[0m00:01\u001b[0m00:01\u001b[0m\n",
      "\u001b[?25hCollecting nvidia-cusolver-cu11==11.4.0.1 (from torch>=1.6.0->sentence-transformers)\n",
      "  Downloading nvidia_cusolver_cu11-11.4.0.1-2-py3-none-manylinux1_x86_64.whl (102.6 MB)\n",
      "\u001b[2K     \u001b[90m━━━━━━━━━━━━━━━━━━━━━━━━━━━━━━━━━━━━━━━\u001b[0m \u001b[32m102.6/102.6 MB\u001b[0m \u001b[31m2.4 MB/s\u001b[0m eta \u001b[36m0:00:00\u001b[0m00:01\u001b[0m00:01\u001b[0m\n",
      "\u001b[?25hCollecting nvidia-cusparse-cu11==11.7.4.91 (from torch>=1.6.0->sentence-transformers)\n",
      "  Downloading nvidia_cusparse_cu11-11.7.4.91-py3-none-manylinux1_x86_64.whl (173.2 MB)\n",
      "\u001b[2K     \u001b[90m━━━━━━━━━━━━━━━━━━━━━━━━━━━━━━━━━━━━━━━\u001b[0m \u001b[32m173.2/173.2 MB\u001b[0m \u001b[31m2.1 MB/s\u001b[0m eta \u001b[36m0:00:00\u001b[0m00:01\u001b[0m00:02\u001b[0m\n",
      "\u001b[?25hCollecting nvidia-nccl-cu11==2.14.3 (from torch>=1.6.0->sentence-transformers)\n",
      "  Downloading nvidia_nccl_cu11-2.14.3-py3-none-manylinux1_x86_64.whl (177.1 MB)\n",
      "\u001b[2K     \u001b[90m━━━━━━━━━━━━━━━━━━━━━━━━━━━━━━━━━━━━━━━\u001b[0m \u001b[32m177.1/177.1 MB\u001b[0m \u001b[31m1.8 MB/s\u001b[0m eta \u001b[36m0:00:00\u001b[0m00:01\u001b[0m00:02\u001b[0m\n",
      "\u001b[?25hCollecting nvidia-nvtx-cu11==11.7.91 (from torch>=1.6.0->sentence-transformers)\n",
      "  Downloading nvidia_nvtx_cu11-11.7.91-py3-none-manylinux1_x86_64.whl (98 kB)\n",
      "\u001b[2K     \u001b[90m━━━━━━━━━━━━━━━━━━━━━━━━━━━━━━━━━━━━━━━━\u001b[0m \u001b[32m98.6/98.6 kB\u001b[0m \u001b[31m3.0 MB/s\u001b[0m eta \u001b[36m0:00:00\u001b[0m\n",
      "\u001b[?25hCollecting triton==2.0.0 (from torch>=1.6.0->sentence-transformers)\n",
      "  Downloading triton-2.0.0-1-cp311-cp311-manylinux2014_x86_64.manylinux_2_17_x86_64.whl (63.3 MB)\n",
      "\u001b[2K     \u001b[90m━━━━━━━━━━━━━━━━━━━━━━━━━━━━━━━━━━━━━━━━\u001b[0m \u001b[32m63.3/63.3 MB\u001b[0m \u001b[31m3.3 MB/s\u001b[0m eta \u001b[36m0:00:00\u001b[0m00:01\u001b[0m00:01\u001b[0m\n",
      "\u001b[?25hRequirement already satisfied: setuptools in /usr/local/lib/python3.11/site-packages (from nvidia-cublas-cu11==11.10.3.66->torch>=1.6.0->sentence-transformers) (65.5.1)\n",
      "Requirement already satisfied: wheel in /usr/local/lib/python3.11/site-packages (from nvidia-cublas-cu11==11.10.3.66->torch>=1.6.0->sentence-transformers) (0.41.2)\n",
      "Collecting cmake (from triton==2.0.0->torch>=1.6.0->sentence-transformers)\n",
      "  Obtaining dependency information for cmake from https://files.pythonhosted.org/packages/94/87/68536d2dde5acec492742c63bb71f43534eb7d3d83122cce3067c4abca2b/cmake-3.27.4.1-py2.py3-none-manylinux2014_x86_64.manylinux_2_17_x86_64.whl.metadata\n",
      "  Downloading cmake-3.27.4.1-py2.py3-none-manylinux2014_x86_64.manylinux_2_17_x86_64.whl.metadata (6.7 kB)\n",
      "Collecting lit (from triton==2.0.0->torch>=1.6.0->sentence-transformers)\n",
      "  Downloading lit-16.0.6.tar.gz (153 kB)\n",
      "\u001b[2K     \u001b[90m━━━━━━━━━━━━━━━━━━━━━━━━━━━━━━━━━━━━━━━\u001b[0m \u001b[32m153.7/153.7 kB\u001b[0m \u001b[31m1.7 MB/s\u001b[0m eta \u001b[36m0:00:00\u001b[0ma \u001b[36m0:00:01\u001b[0m\n",
      "\u001b[?25h  Installing build dependencies ... \u001b[?25ldone\n",
      "\u001b[?25h  Getting requirements to build wheel ... \u001b[?25ldone\n",
      "\u001b[?25h  Installing backend dependencies ... \u001b[?25ldone\n",
      "\u001b[?25h  Preparing metadata (pyproject.toml) ... \u001b[?25ldone\n",
      "\u001b[?25hRequirement already satisfied: regex!=2019.12.17 in /usr/local/lib/python3.11/site-packages (from transformers<5.0.0,>=4.6.0->sentence-transformers) (2023.8.8)\n",
      "Requirement already satisfied: tokenizers!=0.11.3,<0.14,>=0.11.1 in /usr/local/lib/python3.11/site-packages (from transformers<5.0.0,>=4.6.0->sentence-transformers) (0.13.3)\n",
      "Requirement already satisfied: safetensors>=0.3.1 in /usr/local/lib/python3.11/site-packages (from transformers<5.0.0,>=4.6.0->sentence-transformers) (0.3.3)\n",
      "Collecting click (from nltk->sentence-transformers)\n",
      "  Obtaining dependency information for click from https://files.pythonhosted.org/packages/00/2e/d53fa4befbf2cfa713304affc7ca780ce4fc1fd8710527771b58311a3229/click-8.1.7-py3-none-any.whl.metadata\n",
      "  Downloading click-8.1.7-py3-none-any.whl.metadata (3.0 kB)\n",
      "Collecting joblib (from nltk->sentence-transformers)\n",
      "  Obtaining dependency information for joblib from https://files.pythonhosted.org/packages/10/40/d551139c85db202f1f384ba8bcf96aca2f329440a844f924c8a0040b6d02/joblib-1.3.2-py3-none-any.whl.metadata\n",
      "  Downloading joblib-1.3.2-py3-none-any.whl.metadata (5.4 kB)\n",
      "Collecting threadpoolctl>=2.0.0 (from scikit-learn->sentence-transformers)\n",
      "  Obtaining dependency information for threadpoolctl>=2.0.0 from https://files.pythonhosted.org/packages/81/12/fd4dea011af9d69e1cad05c75f3f7202cdcbeac9b712eea58ca779a72865/threadpoolctl-3.2.0-py3-none-any.whl.metadata\n",
      "  Downloading threadpoolctl-3.2.0-py3-none-any.whl.metadata (10.0 kB)\n",
      "Collecting pillow!=8.3.*,>=5.3.0 (from torchvision->sentence-transformers)\n",
      "  Obtaining dependency information for pillow!=8.3.*,>=5.3.0 from https://files.pythonhosted.org/packages/16/89/818fa238e37a47a29bb8495ca2cafdd514599a89f19ada7916348a74b5f9/Pillow-10.0.0-cp311-cp311-manylinux_2_28_x86_64.whl.metadata\n",
      "  Downloading Pillow-10.0.0-cp311-cp311-manylinux_2_28_x86_64.whl.metadata (9.5 kB)\n",
      "Requirement already satisfied: MarkupSafe>=2.0 in /usr/local/lib/python3.11/site-packages (from jinja2->torch>=1.6.0->sentence-transformers) (2.1.3)\n",
      "Requirement already satisfied: charset-normalizer<4,>=2 in /usr/local/lib/python3.11/site-packages (from requests->huggingface-hub>=0.4.0->sentence-transformers) (3.2.0)\n",
      "Requirement already satisfied: idna<4,>=2.5 in /usr/local/lib/python3.11/site-packages (from requests->huggingface-hub>=0.4.0->sentence-transformers) (3.4)\n",
      "Requirement already satisfied: urllib3<3,>=1.21.1 in /usr/local/lib/python3.11/site-packages (from requests->huggingface-hub>=0.4.0->sentence-transformers) (2.0.4)\n",
      "Requirement already satisfied: certifi>=2017.4.17 in /usr/local/lib/python3.11/site-packages (from requests->huggingface-hub>=0.4.0->sentence-transformers) (2023.7.22)\n",
      "Collecting mpmath>=0.19 (from sympy->torch>=1.6.0->sentence-transformers)\n",
      "  Downloading mpmath-1.3.0-py3-none-any.whl (536 kB)\n",
      "\u001b[2K     \u001b[90m━━━━━━━━━━━━━━━━━━━━━━━━━━━━━━━━━━━━━━━\u001b[0m \u001b[32m536.2/536.2 kB\u001b[0m \u001b[31m1.6 MB/s\u001b[0m eta \u001b[36m0:00:00\u001b[0ma \u001b[36m0:00:01\u001b[0m\n",
      "\u001b[?25hDownloading scikit_learn-1.3.0-cp311-cp311-manylinux_2_17_x86_64.manylinux2014_x86_64.whl (10.9 MB)\n",
      "\u001b[2K   \u001b[90m━━━━━━━━━━━━━━━━━━━━━━━━━━━━━━━━━━━━━━━━\u001b[0m \u001b[32m10.9/10.9 MB\u001b[0m \u001b[31m2.5 MB/s\u001b[0m eta \u001b[36m0:00:00\u001b[0m00:01\u001b[0m00:01\u001b[0m\n",
      "\u001b[?25hDownloading scipy-1.11.2-cp311-cp311-manylinux_2_17_x86_64.manylinux2014_x86_64.whl (36.3 MB)\n",
      "\u001b[2K   \u001b[90m━━━━━━━━━━━━━━━━━━━━━━━━━━━━━━━━━━━━━━━━\u001b[0m \u001b[32m36.3/36.3 MB\u001b[0m \u001b[31m3.2 MB/s\u001b[0m eta \u001b[36m0:00:00\u001b[0m00:01\u001b[0m00:01\u001b[0m\n",
      "\u001b[?25hDownloading joblib-1.3.2-py3-none-any.whl (302 kB)\n",
      "\u001b[2K   \u001b[90m━━━━━━━━━━━━━━━━━━━━━━━━━━━━━━━━━━━━━━━━\u001b[0m \u001b[32m302.2/302.2 kB\u001b[0m \u001b[31m1.7 MB/s\u001b[0m eta \u001b[36m0:00:00\u001b[0ma \u001b[36m0:00:01\u001b[0m\n",
      "\u001b[?25hDownloading Pillow-10.0.0-cp311-cp311-manylinux_2_28_x86_64.whl (3.4 MB)\n",
      "\u001b[2K   \u001b[90m━━━━━━━━━━━━━━━━━━━━━━━━━━━━━━━━━━━━━━━━\u001b[0m \u001b[32m3.4/3.4 MB\u001b[0m \u001b[31m3.6 MB/s\u001b[0m eta \u001b[36m0:00:00\u001b[0m00:01\u001b[0m00:01\u001b[0m\n",
      "\u001b[?25hDownloading threadpoolctl-3.2.0-py3-none-any.whl (15 kB)\n",
      "Downloading click-8.1.7-py3-none-any.whl (97 kB)\n",
      "\u001b[2K   \u001b[90m━━━━━━━━━━━━━━━━━━━━━━━━━━━━━━━━━━━━━━━━\u001b[0m \u001b[32m97.9/97.9 kB\u001b[0m \u001b[31m3.1 MB/s\u001b[0m eta \u001b[36m0:00:00\u001b[0m\n",
      "\u001b[?25hDownloading cmake-3.27.4.1-py2.py3-none-manylinux2014_x86_64.manylinux_2_17_x86_64.whl (26.1 MB)\n",
      "\u001b[2K   \u001b[90m━━━━━━━━━━━━━━━━━━━━━━━━━━━━━━━━━━━━━━━━\u001b[0m \u001b[32m26.1/26.1 MB\u001b[0m \u001b[31m2.9 MB/s\u001b[0m eta \u001b[36m0:00:00\u001b[0m00:01\u001b[0m00:01\u001b[0m\n",
      "\u001b[?25hBuilding wheels for collected packages: sentence-transformers, lit\n",
      "  Building wheel for sentence-transformers (setup.py) ... \u001b[?25ldone\n",
      "\u001b[?25h  Created wheel for sentence-transformers: filename=sentence_transformers-2.2.2-py3-none-any.whl size=125923 sha256=3a953000898489af19d43b8d4251f878f792b6297f2de882f24738abd52e3dcb\n",
      "  Stored in directory: /root/.cache/pip/wheels/ff/27/bf/ffba8b318b02d7f691a57084ee154e26ed24d012b0c7805881\n",
      "  Building wheel for lit (pyproject.toml) ... \u001b[?25ldone\n",
      "\u001b[?25h  Created wheel for lit: filename=lit-16.0.6-py3-none-any.whl size=93584 sha256=317c276c4724e699a87e2342ef5e44bf21a064293e9c7938feb5ec186033a74f\n",
      "  Stored in directory: /root/.cache/pip/wheels/ab/84/e4/5af8c76af9e5bee472e825f1451c18bb3b261d80a7b3ec7f8a\n",
      "Successfully built sentence-transformers lit\n",
      "Installing collected packages: sentencepiece, mpmath, lit, cmake, threadpoolctl, sympy, scipy, pillow, nvidia-nvtx-cu11, nvidia-nccl-cu11, nvidia-cusparse-cu11, nvidia-curand-cu11, nvidia-cufft-cu11, nvidia-cuda-runtime-cu11, nvidia-cuda-nvrtc-cu11, nvidia-cuda-cupti-cu11, nvidia-cublas-cu11, networkx, joblib, click, scikit-learn, nvidia-cusolver-cu11, nvidia-cudnn-cu11, nltk, triton, torch, torchvision, sentence-transformers\n",
      "Successfully installed click-8.1.7 cmake-3.27.4.1 joblib-1.3.2 lit-16.0.6 mpmath-1.3.0 networkx-3.1 nltk-3.8.1 nvidia-cublas-cu11-11.10.3.66 nvidia-cuda-cupti-cu11-11.7.101 nvidia-cuda-nvrtc-cu11-11.7.99 nvidia-cuda-runtime-cu11-11.7.99 nvidia-cudnn-cu11-8.5.0.96 nvidia-cufft-cu11-10.9.0.58 nvidia-curand-cu11-10.2.10.91 nvidia-cusolver-cu11-11.4.0.1 nvidia-cusparse-cu11-11.7.4.91 nvidia-nccl-cu11-2.14.3 nvidia-nvtx-cu11-11.7.91 pillow-10.0.0 scikit-learn-1.3.0 scipy-1.11.2 sentence-transformers-2.2.2 sentencepiece-0.1.99 sympy-1.12 threadpoolctl-3.2.0 torch-2.0.1 torchvision-0.15.2 triton-2.0.0\n",
      "\u001b[33mWARNING: Running pip as the 'root' user can result in broken permissions and conflicting behaviour with the system package manager. It is recommended to use a virtual environment instead: https://pip.pypa.io/warnings/venv\u001b[0m\u001b[33m\n",
      "\u001b[0m"
     ]
    }
   ],
   "source": [
    "!pip install sentence-transformers"
   ]
  },
  {
   "cell_type": "code",
   "execution_count": 12,
   "id": "01f4f09c-05c4-412c-bb1f-91e14e5e88c8",
   "metadata": {},
   "outputs": [
    {
     "name": "stdout",
     "output_type": "stream",
     "text": [
      "Requirement already satisfied: torch in /usr/local/lib/python3.11/site-packages (2.0.1)\n",
      "Requirement already satisfied: filelock in /usr/local/lib/python3.11/site-packages (from torch) (3.12.3)\n",
      "Requirement already satisfied: typing-extensions in /usr/local/lib/python3.11/site-packages (from torch) (4.7.1)\n",
      "Requirement already satisfied: sympy in /usr/local/lib/python3.11/site-packages (from torch) (1.12)\n",
      "Requirement already satisfied: networkx in /usr/local/lib/python3.11/site-packages (from torch) (3.1)\n",
      "Requirement already satisfied: jinja2 in /usr/local/lib/python3.11/site-packages (from torch) (3.1.2)\n",
      "Requirement already satisfied: nvidia-cuda-nvrtc-cu11==11.7.99 in /usr/local/lib/python3.11/site-packages (from torch) (11.7.99)\n",
      "Requirement already satisfied: nvidia-cuda-runtime-cu11==11.7.99 in /usr/local/lib/python3.11/site-packages (from torch) (11.7.99)\n",
      "Requirement already satisfied: nvidia-cuda-cupti-cu11==11.7.101 in /usr/local/lib/python3.11/site-packages (from torch) (11.7.101)\n",
      "Requirement already satisfied: nvidia-cudnn-cu11==8.5.0.96 in /usr/local/lib/python3.11/site-packages (from torch) (8.5.0.96)\n",
      "Requirement already satisfied: nvidia-cublas-cu11==11.10.3.66 in /usr/local/lib/python3.11/site-packages (from torch) (11.10.3.66)\n",
      "Requirement already satisfied: nvidia-cufft-cu11==10.9.0.58 in /usr/local/lib/python3.11/site-packages (from torch) (10.9.0.58)\n",
      "Requirement already satisfied: nvidia-curand-cu11==10.2.10.91 in /usr/local/lib/python3.11/site-packages (from torch) (10.2.10.91)\n",
      "Requirement already satisfied: nvidia-cusolver-cu11==11.4.0.1 in /usr/local/lib/python3.11/site-packages (from torch) (11.4.0.1)\n",
      "Requirement already satisfied: nvidia-cusparse-cu11==11.7.4.91 in /usr/local/lib/python3.11/site-packages (from torch) (11.7.4.91)\n",
      "Requirement already satisfied: nvidia-nccl-cu11==2.14.3 in /usr/local/lib/python3.11/site-packages (from torch) (2.14.3)\n",
      "Requirement already satisfied: nvidia-nvtx-cu11==11.7.91 in /usr/local/lib/python3.11/site-packages (from torch) (11.7.91)\n",
      "Requirement already satisfied: triton==2.0.0 in /usr/local/lib/python3.11/site-packages (from torch) (2.0.0)\n",
      "Requirement already satisfied: setuptools in /usr/local/lib/python3.11/site-packages (from nvidia-cublas-cu11==11.10.3.66->torch) (65.5.1)\n",
      "Requirement already satisfied: wheel in /usr/local/lib/python3.11/site-packages (from nvidia-cublas-cu11==11.10.3.66->torch) (0.41.2)\n",
      "Requirement already satisfied: cmake in /usr/local/lib/python3.11/site-packages (from triton==2.0.0->torch) (3.27.4.1)\n",
      "Requirement already satisfied: lit in /usr/local/lib/python3.11/site-packages (from triton==2.0.0->torch) (16.0.6)\n",
      "Requirement already satisfied: MarkupSafe>=2.0 in /usr/local/lib/python3.11/site-packages (from jinja2->torch) (2.1.3)\n",
      "Requirement already satisfied: mpmath>=0.19 in /usr/local/lib/python3.11/site-packages (from sympy->torch) (1.3.0)\n",
      "\u001b[33mWARNING: Running pip as the 'root' user can result in broken permissions and conflicting behaviour with the system package manager. It is recommended to use a virtual environment instead: https://pip.pypa.io/warnings/venv\u001b[0m\u001b[33m\n",
      "\u001b[0m"
     ]
    }
   ],
   "source": [
    "!pip install torch"
   ]
  },
  {
   "cell_type": "code",
   "execution_count": 1,
   "id": "9ec40c45-da47-48eb-89a4-366e00539e22",
   "metadata": {},
   "outputs": [
    {
     "name": "stderr",
     "output_type": "stream",
     "text": [
      "/usr/local/lib/python3.11/site-packages/tqdm/auto.py:21: TqdmWarning: IProgress not found. Please update jupyter and ipywidgets. See https://ipywidgets.readthedocs.io/en/stable/user_install.html\n",
      "  from .autonotebook import tqdm as notebook_tqdm\n"
     ]
    }
   ],
   "source": [
    "from sentence_transformers import SentenceTransformer"
   ]
  },
  {
   "cell_type": "code",
   "execution_count": 2,
   "id": "92561fff-1d35-4e0f-954c-543ba6208dbf",
   "metadata": {},
   "outputs": [],
   "source": [
    "model = SentenceTransformer('sentence-transformers/msmarco-distilbert-base-tas-b')"
   ]
  },
  {
   "cell_type": "code",
   "execution_count": 5,
   "id": "afe2b673-6a91-4092-a2a9-8bfccc2f4db7",
   "metadata": {},
   "outputs": [],
   "source": [
    "sentence = 'This is an example sentence'"
   ]
  },
  {
   "cell_type": "code",
   "execution_count": 6,
   "id": "2078744f-e797-4033-8eee-a4988e2ab2f7",
   "metadata": {},
   "outputs": [
    {
     "data": {
      "text/plain": [
       "(768,)"
      ]
     },
     "execution_count": 6,
     "metadata": {},
     "output_type": "execute_result"
    }
   ],
   "source": [
    "query_embedding = model.encode(sentence)\n",
    "query_embedding.shape"
   ]
  },
  {
   "cell_type": "code",
   "execution_count": 10,
   "id": "aa82d7ce-8fe6-4bcb-9afc-da6c25c4b9b8",
   "metadata": {},
   "outputs": [
    {
     "data": {
      "text/plain": [
       "numpy.ndarray"
      ]
     },
     "execution_count": 10,
     "metadata": {},
     "output_type": "execute_result"
    }
   ],
   "source": [
    "type(query_embedding)"
   ]
  },
  {
   "cell_type": "code",
   "execution_count": 8,
   "id": "be00e2eb-0e37-44ef-8faa-c70f1e06dfed",
   "metadata": {},
   "outputs": [
    {
     "data": {
      "text/plain": [
       "array([ 3.23543489e-01, -4.06454474e-01, -5.32193661e-01,  1.66566357e-01,\n",
       "        6.73893914e-02,  3.49613458e-01,  1.12691477e-01,  1.79000720e-01,\n",
       "       -1.64125606e-01,  2.86196709e-01, -5.36654770e-01, -1.27824098e-01,\n",
       "       -3.88400495e-01,  2.17285201e-01,  2.38139153e-01, -8.07751194e-02,\n",
       "       -1.41710013e-01,  2.47777313e-01, -3.33368272e-01,  1.08328767e-01,\n",
       "       -2.03389712e-02,  7.71733344e-01,  2.02898413e-01, -6.27334742e-03,\n",
       "        2.86800861e-01, -3.47884953e-01,  6.31749630e-01, -4.25925523e-01,\n",
       "       -7.06701517e-01,  4.01094139e-01,  1.17905643e-02,  3.07362285e-02,\n",
       "        4.55349088e-01,  1.58632532e-01,  9.67566669e-02,  4.34218794e-02,\n",
       "        1.71226844e-01,  1.18119054e-01,  2.53615946e-01, -2.04268709e-01,\n",
       "       -8.68262500e-02, -3.36682409e-01,  3.43862832e-01,  5.14622450e-01,\n",
       "       -2.95212716e-01,  2.55245179e-01, -4.23189580e-01, -1.50818080e-01,\n",
       "       -1.53296694e-01,  4.25297841e-02, -4.43754166e-01,  8.14154968e-02,\n",
       "        2.90795248e-02, -1.99997112e-01, -5.97135305e-01,  7.55539164e-02,\n",
       "        6.06896617e-02, -6.51340663e-01, -1.52183529e-02, -1.73145294e-01,\n",
       "       -2.12389547e-02,  1.53489217e-01, -2.33774453e-01,  2.10321043e-02,\n",
       "        2.77973145e-01,  1.49746567e-01,  2.17141807e-01,  3.52990389e-01,\n",
       "       -6.73965871e-01, -1.32068932e-01,  5.79959434e-03,  1.13423236e-01,\n",
       "       -5.72574258e-01,  5.46096861e-01, -4.82126847e-02, -2.34148145e-01,\n",
       "        2.91044146e-01,  2.26909816e-01, -4.77881031e-03,  3.82356253e-03,\n",
       "       -3.62959206e-01, -4.91856225e-02, -1.44012094e-01,  1.19622730e-01,\n",
       "       -2.25398391e-01, -7.98760831e-01, -1.24793842e-01,  1.35891110e-01,\n",
       "       -7.26842940e-01,  6.39222085e-01,  7.56798312e-02,  9.36453193e-02,\n",
       "       -5.75480461e-01,  3.92403036e-01, -1.94296286e-01,  2.70186841e-01,\n",
       "        4.61225450e-01, -3.45892161e-01, -1.04993418e-01, -2.49396935e-02,\n",
       "       -6.93738635e-04, -4.33575630e-01,  6.49220943e-01,  2.55778749e-02,\n",
       "       -2.13403299e-01,  8.35366845e-02, -3.26062627e-02, -1.37983933e-01,\n",
       "        9.78091657e-02, -1.68617547e-01,  5.45283079e-01, -2.15017006e-01,\n",
       "        2.59896696e-01, -1.52365386e-01, -2.80735698e-02, -5.34205772e-02,\n",
       "       -3.19739766e-02,  1.59882799e-01, -9.56667960e-02,  4.14226919e-01,\n",
       "        2.64897376e-01, -1.43946066e-01,  1.10171856e-02, -3.39008607e-02,\n",
       "        2.20742702e-01, -5.58908701e-01,  2.02975914e-01,  3.76930416e-01,\n",
       "        2.02446982e-01,  1.20409541e-01,  3.00442457e-01, -8.62514153e-02,\n",
       "        8.57266486e-02, -3.53480548e-01,  8.72098431e-02, -9.01856720e-02,\n",
       "       -1.43129990e-01, -1.20872378e-01, -1.03534326e-01, -8.56815949e-02,\n",
       "        1.98654249e-01, -9.41306949e-02, -3.21645625e-02,  1.56333759e-01,\n",
       "        4.33921933e-01,  1.30989820e-01, -6.60094023e-02,  7.97133446e-02,\n",
       "        4.82671820e-02,  1.55727267e-01, -3.91416818e-01,  3.07641715e-01,\n",
       "       -3.92464370e-01,  8.23737085e-02,  2.38584548e-01,  4.23758030e-01,\n",
       "        1.60310194e-01, -1.10597223e-01, -1.98300064e-01, -7.92800169e-03,\n",
       "        4.12830651e-01,  3.30241829e-01,  2.07980350e-01, -4.02684733e-02,\n",
       "        5.15672922e-01,  5.56506403e-02, -2.68792242e-01,  1.30231380e-01,\n",
       "       -7.82016575e-01,  4.85311188e-02, -3.61445457e-01,  1.68747738e-01,\n",
       "       -2.28440523e-01,  7.28305578e-02, -5.74292719e-01,  5.19954622e-01,\n",
       "        1.62342817e-01,  2.44544461e-01,  4.42701429e-01,  1.52360186e-01,\n",
       "       -2.97330499e-01,  2.88287550e-01,  2.97729056e-02,  3.27170454e-02,\n",
       "       -3.13050240e-01,  1.35650530e-01, -9.75360349e-02, -2.04060167e-01,\n",
       "        6.84783682e-02, -1.41241588e-02, -3.35002057e-02,  9.90948603e-02,\n",
       "       -2.62784064e-01, -1.99397847e-01,  3.33689630e-01,  2.54969951e-02,\n",
       "       -4.09656793e-01, -1.34348541e-01, -1.87915713e-01,  4.50621843e-01,\n",
       "        1.23549029e-02,  3.73025350e-02, -1.46625161e-01,  1.20744124e-01,\n",
       "        7.91292787e-02,  3.91596556e-01, -1.56014338e-01,  7.98090696e-02,\n",
       "       -7.34434873e-02, -8.79224166e-02,  5.53419769e-01,  2.47871056e-01,\n",
       "        1.05583943e-01, -3.09003085e-01,  5.47862984e-02, -2.77870387e-01,\n",
       "       -3.55870649e-02,  2.91368306e-01, -4.02032018e-01, -3.65652025e-01,\n",
       "        1.95448503e-01, -2.68323898e-01,  5.84796742e-02,  4.96394038e-01,\n",
       "        5.88661492e-01,  4.48289096e-01,  1.92912251e-01, -4.35282774e-02,\n",
       "        6.64860308e-02, -1.47238702e-01, -6.94000348e-02, -1.87865898e-01,\n",
       "        1.28242493e-01,  8.56109858e-02, -4.11306202e-01,  6.51920140e-01,\n",
       "        4.32617404e-02,  6.28498122e-02, -4.03937191e-01, -2.13980004e-01,\n",
       "       -8.66552144e-02,  5.02935469e-01, -2.03698680e-01,  4.67716217e-01,\n",
       "       -1.83954164e-01, -1.55767975e-02, -1.71169817e-01, -1.34135455e-01,\n",
       "        8.08738545e-02,  2.52508789e-01, -2.25871935e-01,  3.49494904e-01,\n",
       "       -1.69927791e-01,  7.14703510e-03, -6.32126749e-01, -1.93016738e-01,\n",
       "       -2.42421374e-01, -1.58922195e-01, -8.31264704e-02, -3.31265241e-01,\n",
       "       -1.39659271e-01,  2.02407628e-01, -5.35065174e-01, -5.22154570e-01,\n",
       "       -5.58062315e-01,  2.13579446e-01, -2.83434898e-01, -2.95389183e-02,\n",
       "        5.13659120e-01, -1.97890714e-01, -2.93306947e-01,  1.98086411e-01,\n",
       "       -2.12355092e-01, -2.04078183e-01,  3.84012282e-01,  2.24519983e-01,\n",
       "        1.97670057e-01,  7.24514127e-01,  1.89018160e-01, -4.67277467e-01,\n",
       "        2.11992413e-02, -2.03290641e-01,  2.32454255e-01,  3.50931495e-01,\n",
       "        2.67927408e-01, -3.56084377e-01,  1.37001276e-02,  3.86586100e-01,\n",
       "       -1.33107498e-01, -4.39300537e-02, -2.36928746e-01,  3.63979936e-01,\n",
       "        3.71094078e-01, -2.11932808e-01,  5.98381639e-01,  3.20940733e-01,\n",
       "        1.23366825e-01, -5.40104322e-02, -7.83631355e-02, -3.23788017e-01,\n",
       "       -2.16327980e-01,  1.45708561e-01, -5.84052801e-01,  2.86540091e-01,\n",
       "       -2.42137089e-02,  1.95281565e-01,  2.94959635e-01,  3.12298201e-02,\n",
       "       -8.16129208e+00,  2.49337971e-01, -1.45010687e-02, -6.21258914e-01,\n",
       "        2.18757033e-01, -1.99547723e-01, -2.79594481e-01, -1.37032509e-01,\n",
       "       -5.33144176e-01, -4.36895750e-02, -1.46593481e-01, -2.41650920e-02,\n",
       "       -1.46951238e-02,  3.38403016e-01, -9.50827375e-02,  1.39064252e-01,\n",
       "       -3.74857597e-02, -5.76675087e-02, -1.79175198e-01,  1.29257545e-01,\n",
       "        3.99470292e-02,  9.27511752e-02,  4.32080813e-02,  2.20940243e-02,\n",
       "       -1.81093335e-01, -1.84944421e-01,  4.68641780e-02, -5.46151474e-02,\n",
       "        4.42389697e-01, -2.98764765e-01,  3.02000135e-01,  1.00502171e-01,\n",
       "       -2.53646612e-01, -8.14839900e-02, -5.45936108e-01,  4.85727340e-01,\n",
       "        4.27080065e-01,  2.62740046e-01,  2.09571212e-03,  4.49036807e-01,\n",
       "       -5.13256192e-01, -2.00864062e-01, -1.88790843e-01,  1.21234164e-01,\n",
       "        2.86002815e-01, -1.44500449e-01, -4.56185788e-01, -1.91924527e-01,\n",
       "        1.79454222e-01,  6.13134317e-02,  7.96753913e-02,  4.08356845e-01,\n",
       "        8.49214196e-02,  1.71833143e-01,  2.86827892e-01, -2.28588745e-01,\n",
       "        1.06518626e-01,  5.36910556e-02,  1.52717466e-02, -2.98287243e-01,\n",
       "        1.35160461e-02, -3.22001934e-01, -7.87712872e-01, -2.04807725e-02,\n",
       "        4.32955593e-01, -1.72072172e-01, -1.67865366e-01, -1.71345542e-03,\n",
       "        7.16090873e-02, -9.55725610e-02, -2.15594545e-01,  6.38341624e-03,\n",
       "       -2.71523178e-01, -9.45014536e-01, -1.41263351e-01, -2.15125486e-01,\n",
       "       -1.64790675e-01, -2.32166544e-01, -1.12776265e-01, -2.05720872e-01,\n",
       "        9.91334394e-03,  2.21997574e-01, -3.43481481e-01,  1.70589253e-01,\n",
       "        4.56748962e-01,  8.77516493e-02, -2.54621685e-01,  2.13265270e-01,\n",
       "       -2.01318517e-01,  1.00083753e-01,  3.56194496e-01,  3.63713592e-01,\n",
       "       -5.28076887e-02,  2.25877278e-02,  3.55930746e-01, -2.40140781e-01,\n",
       "       -1.22740887e-01, -4.15614277e-01,  1.76818952e-01, -2.84699738e-01,\n",
       "       -1.99715823e-01,  2.60298289e-02,  1.92982316e-01, -2.05126982e-02,\n",
       "       -1.20699972e-01, -1.63248584e-01, -6.89006805e-01,  2.94533610e-01,\n",
       "        4.55670357e-02,  2.17833593e-01,  2.04375640e-01, -2.00201608e-02,\n",
       "       -2.00747415e-01, -3.78895938e-01,  1.55178402e-02,  4.16176289e-01,\n",
       "        4.29352701e-01,  6.84890032e-01,  6.36050403e-01, -1.32563204e-01,\n",
       "       -2.36557554e-02,  6.75712898e-02, -6.12075508e-01, -3.03652287e-01,\n",
       "       -1.38009220e-01,  1.11364834e-01, -6.91761971e-02,  1.52784094e-01,\n",
       "        1.09982096e-01,  1.62997723e-01, -8.09782594e-02,  1.83694974e-01,\n",
       "       -9.83492211e-02,  9.27629620e-02,  1.28048301e-01, -1.82969347e-01,\n",
       "       -7.40304589e-02, -7.67215118e-02, -9.47198737e-03, -3.23746838e-02,\n",
       "       -4.81465042e-01, -3.71966183e-01, -3.04815382e-01, -5.56326270e-01,\n",
       "        1.25182316e-01,  2.95438647e-01, -1.68018147e-01,  6.55008331e-02,\n",
       "        2.20791832e-01,  3.50114346e-01, -1.92468882e-01,  1.79162636e-01,\n",
       "        1.20494969e-01, -6.87345862e-02, -3.76299880e-02,  1.25583023e-01,\n",
       "       -1.49055868e-01, -3.34319383e-01, -2.79349238e-01, -4.96214293e-02,\n",
       "        8.96217749e-02,  1.73499078e-01, -5.61846077e-01, -3.15950692e-01,\n",
       "       -1.39961317e-01,  2.33402312e-01, -4.85067278e-01,  4.26509500e-01,\n",
       "        3.45011622e-01,  2.37882301e-01,  1.74046811e-02, -4.21879917e-01,\n",
       "       -8.47590640e-02,  8.75582337e-01, -2.94612404e-02,  1.54130710e-02,\n",
       "        5.16528606e-01, -1.40652329e-01, -6.53201714e-02,  5.29049516e-01,\n",
       "       -2.17685759e-01,  1.38617288e-02, -1.51454406e-02, -6.40188277e-01,\n",
       "        3.61629546e-01,  1.24754854e-01,  9.00210083e-01,  3.10728580e-01,\n",
       "       -4.26824614e-02, -2.94312447e-01,  2.74161547e-01, -6.42524380e-03],\n",
       "      dtype=float32)"
      ]
     },
     "execution_count": 8,
     "metadata": {},
     "output_type": "execute_result"
    }
   ],
   "source": [
    "max_embedding = 500\n",
    "query_embedding[:max_embedding]"
   ]
  },
  {
   "cell_type": "code",
   "execution_count": 3,
   "id": "3683cf75-1f8a-49a3-ac44-518bf20a3f14",
   "metadata": {},
   "outputs": [],
   "source": [
    "# !mkdir model"
   ]
  },
  {
   "cell_type": "code",
   "execution_count": 4,
   "id": "78213419-1286-4397-8a1b-87af0d1e0ffa",
   "metadata": {},
   "outputs": [],
   "source": [
    "# Define directory as the save directory\n",
    "save_directory = \"./model/\"\n",
    "\n",
    "# Save the model\n",
    "model.save(save_directory)"
   ]
  },
  {
   "cell_type": "code",
   "execution_count": 9,
   "id": "a7fca34f-f261-4295-9c48-72380cd9e087",
   "metadata": {},
   "outputs": [
    {
     "name": "stdout",
     "output_type": "stream",
     "text": [
      "huggingface/tokenizers: The current process just got forked, after parallelism has already been used. Disabling parallelism to avoid deadlocks...\n",
      "To disable this warning, you can either:\n",
      "\t- Avoid using `tokenizers` before the fork if possible\n",
      "\t- Explicitly set the environment variable TOKENIZERS_PARALLELISM=(true | false)\n"
     ]
    }
   ],
   "source": [
    "!pip freeze > requirements.txt"
   ]
  },
  {
   "cell_type": "code",
   "execution_count": null,
   "id": "d5bce4f6-49f9-4c76-a987-0e1d88bbe459",
   "metadata": {},
   "outputs": [],
   "source": []
  }
 ],
 "metadata": {
  "kernelspec": {
   "display_name": "Python 3 (ipykernel)",
   "language": "python",
   "name": "python3"
  },
  "language_info": {
   "codemirror_mode": {
    "name": "ipython",
    "version": 3
   },
   "file_extension": ".py",
   "mimetype": "text/x-python",
   "name": "python",
   "nbconvert_exporter": "python",
   "pygments_lexer": "ipython3",
   "version": "3.11.5"
  }
 },
 "nbformat": 4,
 "nbformat_minor": 5
}
